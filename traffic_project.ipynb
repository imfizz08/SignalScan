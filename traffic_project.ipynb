{
 "cells": [
  {
   "cell_type": "code",
   "execution_count": 2,
   "id": "79919814",
   "metadata": {},
   "outputs": [],
   "source": [
    "import os\n",
    "import cv2\n",
    "import numpy as np\n",
    "from shapely.geometry import Polygon\n",
    "from moviepy.editor import VideoFileClip\n",
    "from playsound import playsound\n",
    "# pip install playsound==1.2.2\n"
   ]
  },
  {
   "cell_type": "code",
   "execution_count": 3,
   "id": "d58b99b8",
   "metadata": {},
   "outputs": [],
   "source": [
    "input_height = 480\n",
    "input_width = 640\n",
    "\n",
    "# Initialize the parameters\n",
    "\n",
    "confThreshold = 0.20  #Confidence threshold, decrease if not detecting\n",
    "iouThreshold = 0.30\n",
    "inpWidth = 416       #Width of network's input image\n",
    "inpHeight = 416      #Height of network's input image\n",
    "\n",
    "\n",
    "red = (0, 0, 255)\n",
    "green = (0, 255, 0)\n",
    "font = cv2.FONT_HERSHEY_SIMPLEX\n",
    "\n",
    "fontScale = 0.5\n",
    "thickness = 1\n",
    "\n",
    "triangle = []"
   ]
  },
  {
   "cell_type": "code",
   "execution_count": null,
   "id": "e84f6b41",
   "metadata": {},
   "outputs": [],
   "source": []
  },
  {
   "cell_type": "code",
   "execution_count": 4,
   "id": "750d7724",
   "metadata": {},
   "outputs": [],
   "source": [
    "# Load names of classes\n",
    "classesFile = \"obj.names\"\n",
    "classes_yolo = None\n",
    "with open(classesFile, 'rt') as f:\n",
    "    classes_yolo = f.read().rstrip('\\n').split('\\n')\n",
    "\n",
    "# Give the configuration and weight files for the model and load the network using them.\n",
    "modelConfiguration_yolo = \"yolov4-obj.cfg\";\n",
    "modelWeights_yolo = \"yolov4-obj_best.weights\";\n",
    "net_yolo = cv2.dnn.readNetFromDarknet(modelConfiguration_yolo, modelWeights_yolo)\n",
    "net_yolo.setPreferableBackend(cv2.dnn.DNN_BACKEND_CUDA)\n",
    "net_yolo.setPreferableTarget(cv2.dnn.DNN_TARGET_CUDA)"
   ]
  },
  {
   "cell_type": "code",
   "execution_count": 5,
   "id": "d3769c30",
   "metadata": {},
   "outputs": [],
   "source": [
    "def getOutputsNames(net):\n",
    "    # Get the names of all the layers in the network\n",
    "    layersNames = net.getLayerNames()\n",
    "    # Get the names of the output layers, i.e. the layers with unconnected outputs\n",
    "    return [layersNames[i-1 ] for i in net.getUnconnectedOutLayers()]"
   ]
  },
  {
   "cell_type": "code",
   "execution_count": 6,
   "id": "e6fcbfe0",
   "metadata": {},
   "outputs": [],
   "source": [
    "def calculate_iou(box_1, box_2):\n",
    "    poly_1 = Polygon(box_1)\n",
    "    poly_2 = Polygon(box_2)\n",
    "    iou = poly_1.intersection(poly_2).area / poly_1.union(poly_2).area\n",
    "    return iou"
   ]
  },
  {
   "cell_type": "code",
   "execution_count": null,
   "id": "a689dc5a",
   "metadata": {},
   "outputs": [],
   "source": []
  },
  {
   "cell_type": "code",
   "execution_count": 7,
   "id": "501d0894",
   "metadata": {},
   "outputs": [],
   "source": [
    "def get_bounding_box(outs,classes):\n",
    "    classIds=[]\n",
    "    boxes = []\n",
    "    for out in outs:\n",
    "        for detection in out:\n",
    "            scores = detection[5:]\n",
    "            classId = np.argmax(scores)\n",
    "            confidence = scores[classId]\n",
    "            if confidence > confThreshold:\n",
    "                \n",
    "                center_x = int(detection[0] * input_width)\n",
    "                center_y = int(detection[1] * input_height)\n",
    "                width = int(detection[2] * input_width)\n",
    "                height = int(detection[3] * input_height)\n",
    "                left = int(center_x - width / 2)\n",
    "                top = int(center_y - height / 2)\n",
    "                classIds.append(classId)\n",
    "                boxes.append([left, top, width, height])\n",
    "\n",
    "\n",
    "    class_and_box_dict = {}\n",
    "    for idx in range(len(classIds)):\n",
    "        box = boxes[idx]\n",
    "        bottom_left_x = box[0]\n",
    "        bottom_left_y = box[1]\n",
    "        width = box[2]\n",
    "        height = box[3]\n",
    "\n",
    "        bottom_left = [bottom_left_x,bottom_left_y]\n",
    "        bottom_right = [bottom_left_x+width,bottom_left_y]\n",
    "\n",
    "        top_left = [bottom_left_x,bottom_left_y+height]\n",
    "        top_right = [bottom_left_x+width,bottom_left_y+height]\n",
    "\n",
    "        class_name = classes[classIds[idx]]\n",
    "        if class_name in class_and_box_dict.keys():\n",
    "            class_and_box_dict[class_name].append([top_left,top_right,bottom_right,bottom_left])\n",
    "        else:\n",
    "            class_and_box_dict[class_name] = [[top_left,top_right,bottom_right,bottom_left]]\n",
    "    return class_and_box_dict"
   ]
  },
  {
   "cell_type": "code",
   "execution_count": 8,
   "id": "9f63987f",
   "metadata": {},
   "outputs": [],
   "source": [
    "def plot_box(frame1,class_and_box_dict):\n",
    "    \n",
    "    for key in class_and_box_dict.keys():\n",
    "        for idx in range(len(class_and_box_dict[key])):\n",
    "            box = class_and_box_dict[key][idx]\n",
    "            top_left,top_right,bottom_right,bottom_left = box\n",
    "            org = [top_left[0],top_left[1]-10]\n",
    "            color=green\n",
    "            frame1 = cv2.rectangle(frame1,bottom_left,top_right,color,2)\n",
    "            frame1 = cv2.putText(frame1, key, org, font, 1, red, 2, cv2.LINE_AA) \n",
    "        try:\n",
    "            audio = f\"Music/{key}.mp3\"\n",
    "            playsound(audio,False)\n",
    "        except Exception as e:\n",
    "            print(e) \n",
    "#         print(key)\n",
    "    return frame1"
   ]
  },
  {
   "cell_type": "code",
   "execution_count": 9,
   "id": "4f31c6b8",
   "metadata": {},
   "outputs": [],
   "source": [
    "def check_iou_score(class_and_box_dict):\n",
    "    for key in class_and_box_dict.keys():\n",
    "        if len(class_and_box_dict[key])>1:\n",
    "            all_boxes = class_and_box_dict[key]\n",
    "            pop_idx = []\n",
    "            final_boxes = []\n",
    "            for i in range(len(all_boxes)):\n",
    "                for j in range(i+1,len(all_boxes)):\n",
    "                    iou_score = calculate_iou(all_boxes[i],all_boxes[j])\n",
    "                    if iou_score >= iouThreshold:\n",
    "                        pop_idx.append(i)\n",
    "            for m in range(len(all_boxes)):\n",
    "                if m not in pop_idx:\n",
    "                    final_boxes.append(all_boxes[m])\n",
    "\n",
    "            class_and_box_dict[key] = final_boxes\n",
    "    return class_and_box_dict"
   ]
  },
  {
   "cell_type": "code",
   "execution_count": 10,
   "id": "acdb0b5b",
   "metadata": {},
   "outputs": [],
   "source": [
    "def detect_obj(img):\n",
    "\n",
    "    frame =cv2.resize(img,(input_width,input_height))\n",
    "    blob = cv2.dnn.blobFromImage(frame, 1/255, (input_height, input_width), [0,0,0], 1, crop=False)\n",
    "    net_yolo.setInput(blob)\n",
    "\n",
    "    outs = net_yolo.forward(getOutputsNames(net_yolo))\n",
    "    class_and_box_dict = get_bounding_box(outs,classes_yolo)\n",
    "    class_and_box_dict = check_iou_score(class_and_box_dict)\n",
    "\n",
    "\n",
    "    frame = plot_box(frame,class_and_box_dict)\n",
    "    return frame\n"
   ]
  },
  {
   "cell_type": "code",
   "execution_count": null,
   "id": "f664099a",
   "metadata": {},
   "outputs": [],
   "source": []
  },
  {
   "cell_type": "code",
   "execution_count": null,
   "id": "582f4fcf",
   "metadata": {},
   "outputs": [],
   "source": [
    "\n"
   ]
  },
  {
   "cell_type": "code",
   "execution_count": 11,
   "id": "a9495b62",
   "metadata": {},
   "outputs": [],
   "source": [
    "def main(frame):\n",
    "    img = detect_obj(frame)\n",
    "#     frame = plot_lanes(img)\n",
    "    return img"
   ]
  },
  {
   "cell_type": "code",
   "execution_count": null,
   "id": "137a57d8",
   "metadata": {},
   "outputs": [],
   "source": []
  },
  {
   "cell_type": "code",
   "execution_count": 12,
   "id": "2224ee24",
   "metadata": {},
   "outputs": [],
   "source": [
    "\n",
    "#camera = cv2.VideoCapture(\"result.mp4\")\n",
    "camera = cv2.VideoCapture(0)\n",
    "ret, frame = camera.read()\n",
    "\n",
    "# check of live video\n",
    "while(camera.isOpened()):\n",
    " # Capture frame-by-frame\n",
    "    ret, frame = camera.read()\n",
    "    if ret == True:\n",
    "        # Display the resulting frame\n",
    "        frame = main(frame)\n",
    "        cv2.imshow('Frame',frame)\n",
    "        # Press Q on keyboard to  exit\n",
    "        if cv2.waitKey(25) & 0xFF == ord('q'):\n",
    "            break\n",
    "    # Break the loop\n",
    "    else:\n",
    "        break\n",
    "\n",
    "camera.release()\n",
    "cv2.destroyAllWindows()\n"
   ]
  },
  {
   "cell_type": "code",
   "execution_count": null,
   "id": "aedf31cb",
   "metadata": {},
   "outputs": [
    {
     "name": "stdout",
     "output_type": "stream",
     "text": [
      "Moviepy - Building video result1.mp4.\n",
      "MoviePy - Writing audio in result1TEMP_MPY_wvf_snd.mp3\n"
     ]
    },
    {
     "name": "stderr",
     "output_type": "stream",
     "text": [
      "                                                                                                                       \r"
     ]
    },
    {
     "name": "stdout",
     "output_type": "stream",
     "text": [
      "MoviePy - Done.\n",
      "Moviepy - Writing video result1.mp4\n",
      "\n"
     ]
    },
    {
     "name": "stderr",
     "output_type": "stream",
     "text": [
      "t:  27%|██████████████████▎                                                 | 94/350 [02:00<06:16,  1.47s/it, now=None]"
     ]
    }
   ],
   "source": [
    "\n",
    "# check for recorded video\n",
    "video_output = 'result1.mp4'\n",
    "clip1 = VideoFileClip(\"result.mp4\")\n",
    "\n",
    "clip = clip1.fl_image(main) #NOTE: it should be in BGR format\n",
    "clip.write_videofile(video_output, audio=True)"
   ]
  },
  {
   "cell_type": "code",
   "execution_count": null,
   "id": "a90c0770",
   "metadata": {},
   "outputs": [],
   "source": []
  },
  {
   "cell_type": "code",
   "execution_count": null,
   "id": "4125a7b7",
   "metadata": {},
   "outputs": [],
   "source": []
  },
  {
   "cell_type": "code",
   "execution_count": null,
   "id": "768b5c1c",
   "metadata": {},
   "outputs": [],
   "source": []
  }
 ],
 "metadata": {
  "kernelspec": {
   "display_name": "Python 3 (ipykernel)",
   "language": "python",
   "name": "python3"
  },
  "language_info": {
   "codemirror_mode": {
    "name": "ipython",
    "version": 3
   },
   "file_extension": ".py",
   "mimetype": "text/x-python",
   "name": "python",
   "nbconvert_exporter": "python",
   "pygments_lexer": "ipython3",
   "version": "3.9.12"
  }
 },
 "nbformat": 4,
 "nbformat_minor": 5
}
